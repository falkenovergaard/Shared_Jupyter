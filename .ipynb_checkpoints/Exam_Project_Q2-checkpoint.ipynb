{
 "cells": [
  {
   "cell_type": "code",
   "execution_count": 10,
   "metadata": {},
   "outputs": [
    {
     "data": {
      "text/plain": [
       "[1, 1, 1, 1]"
      ]
     },
     "execution_count": 10,
     "metadata": {},
     "output_type": "execute_result"
    }
   ],
   "source": [
    "#Sub numpy implementation \n",
    "\n",
    "class snp: \n",
    "\n",
    "    def ones(number_of_ones):\n",
    "        ints = []\n",
    "        for numbers in range(number_of_ones):\n",
    "            ints.append(1)\n",
    "        return ints\n",
    "\n",
    "\n",
    "\n",
    "snp.ones(4)"
   ]
  },
  {
   "cell_type": "code",
   "execution_count": 20,
   "metadata": {},
   "outputs": [
    {
     "name": "stdout",
     "output_type": "stream",
     "text": [
      "[[1, 2, 3, 4, 5], [2, 2, 2, 2, 2]]\n",
      "{1, 2, 3, 4, 5}\n",
      "<zip object at 0x000001B24FC59248>\n"
     ]
    }
   ],
   "source": [
    "\n",
    "\n",
    "list_1=[1,2,3,4,5]\n",
    "list_2=[2,2,2,2,2]\n",
    "\n",
    "numbers=[]\n",
    "\n",
    "\n",
    "numbers.append(list_1)\n",
    "\n",
    "numbers.append(list_2)\n",
    "\n",
    "list_zipped = zip(list_1, list_2)\n",
    "\n",
    "print(numbers)\n",
    "\n",
    "combined_dict = set().union(*numbers)\n",
    "\n",
    "print(combined_dict)\n",
    "\n",
    "print(list_zipped)"
   ]
  },
  {
   "cell_type": "code",
   "execution_count": null,
   "metadata": {},
   "outputs": [],
   "source": []
  }
 ],
 "metadata": {
  "kernelspec": {
   "display_name": "Python 3",
   "language": "python",
   "name": "python3"
  },
  "language_info": {
   "codemirror_mode": {
    "name": "ipython",
    "version": 3
   },
   "file_extension": ".py",
   "mimetype": "text/x-python",
   "name": "python",
   "nbconvert_exporter": "python",
   "pygments_lexer": "ipython3",
   "version": "3.6.4"
  }
 },
 "nbformat": 4,
 "nbformat_minor": 2
}
