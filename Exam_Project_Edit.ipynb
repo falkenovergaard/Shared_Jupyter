{
 "cells": [
  {
   "cell_type": "markdown",
   "metadata": {},
   "source": [
    "## Question 1.1\n",
    "Introduced in 1950 by Richard Hamming, the Hamming code is basically a means of counteracting errors in the transfer of data in binary bit format. In the case of Hamming himself, the errors originated from the a punchcard reader at his workplace. Yet, this method can in principle be used for errorcorrection in data transfer, no matter the medium.\n",
    "The Hamming code makes use of the concepts of dot-product from linear algebra and parity bits in combination. The idea is this: take a 4-bit piece of data, you wish to transfer. This can be seen as a 4x1 vector. Multiply this vector by a 7x4 so-called _\"generator-matrix\"_, to create a 7-bit _code word_. This 7-bit code word now contains both the original 4 bits of data along with 3 parity bits, that can be used for error correction, once data has been transfered. \n",
    "The code below contains a method that, when supplied with a 4-bit data-string constructs a 7-bit code word, using a Hamming Code (named _G matrix_ in the code, short for generator matrix). The details of the method will be explained below.\n"
   ]
  },
  {
   "cell_type": "code",
   "execution_count": 3,
   "metadata": {},
   "outputs": [
    {
     "name": "stdout",
     "output_type": "stream",
     "text": [
      "7-bit code_word [0, 1, 0, 0, 1, 0, 1]\n"
     ]
    }
   ],
   "source": [
    "# Imports\n",
    "import random\n",
    "\n",
    "# Method to convert a 4-bit message in to a 7-bit code word, \n",
    "# adding 3 parity bits in the process\n",
    "def encoder(message):\n",
    "    \n",
    "    #This is the generator/encoding matrix\n",
    "    G_matrix = [[1,0,1,1],\n",
    "                [1,1,0,1],\n",
    "                [0,0,0,1],\n",
    "                [1,1,1,0],\n",
    "                [0,0,1,0],\n",
    "                [0,1,0,0],\n",
    "                [1,0,0,0]]\n",
    "    \n",
    "    # Variable to hold the 7-bit codeword\n",
    "    code_word = []\n",
    "    \n",
    "    # For-loop to test the number of rows in the matrix\n",
    "    for i in range(len(G_matrix)):\n",
    "        # Variable to hold the dot-product\n",
    "        count = 0\n",
    "        # Nested for-loop to calculate the dot-product of every row multiplicated by the 4-bit message\n",
    "        for x in range(len(message)):\n",
    "            count += message[x] * G_matrix[i][x]\n",
    "        # Every dot-product is appended to the code_word variable, creating the 7-bit code_word.\n",
    "        code_word.append(count%2)\n",
    "    \n",
    "    return(code_word)\n",
    "\n",
    "print('7-bit code_word',encoder([1,0,1,0]))\n"
   ]
  },
  {
   "cell_type": "markdown",
   "metadata": {},
   "source": [
    "When running the encoder on the 4 bits __[1,0,1,0]__, the resulting 7-bit code word is __[0,1,0,0,1,0,1]__.To understand the whole concept of Hamming codes, and why the 7-bit code word looks the way it does, it is necessary to understand the concept of parity bits.\n",
    "### Parity bits\n",
    "These bits do not contain parts of the original data, but rather meta data in the form of _\"data about the data\"_. This means, that a parity bit is an indication of wether the number of 1's in a piece of data is even or odd. Working with even parities, means that a parity bit will be 1, if the number of 1's in piece of data is odd, as this makes the sum of all 1's even (odd number + 1 = even number.\n",
    "In the code above, 3 parity bits are introduced in positions 1,2 and 4 of the 7-bit code word. This can be seen, as rows 1,2 and 4 in the G_matrix have 3 1' each, but in different positions. What this means is, that all the parity bits look at 3 positions in the original 4 pieces of data, and checks, whether they are even or odd. As an example, the first parity bit (first row of G-matrix) has the form __[1,0,1,1]__, which means that is \"look\" for 1's in positions 1,3,4. Our data is __[1,0,1,0]__, which means we get a dot-product of 2 in this instance, as both vectors have a 1 in positions 1 and 3. And so the parity bit in position 1 is a zero, as the number of 1's in the bits looked at is already even. In the code this check for even/oddd is done by using the _modulus-operator_ with 2 (%2).\n",
    "The following table illustrates which parity bits (P) are looking at which data bits (D), and which positions the different bits are placed in, in the final 7-bit code word:\n",
    "\n",
    "<img src=\"attachment:image.png\" width=\"400\">\n",
    "\n",
    "The 4 remaining bits of the 7-bit codeword in positions 3,5,6,7 are basically just a mirroring of the original 4 bits of data. It is worth noting (as is also illustrated in the above table), that the G-matrix used in this case actually turns the original 4 bits of data around. This can be seen by the way, that the 7th row of the G-matrix has a 1 in it's first position. This means that it \"looks\" at the first position of the data. The 6'th row has a 1 in it's 3rd position and so on.\n",
    "\n",
    "Encoding a 4 bits of data in to a 7 bit code word is only really a clever thing to do, if the data is at risk of incurring errors in the form of flipped bits. To demonstrate how the use of a Hamming code can effectively find and correct such a flipped bit error, the following code is a method, that introduces a random flipped bit to our code word __[0, 1, 0, 0, 1, 0, 1]__: \n"
   ]
  },
  {
   "cell_type": "code",
   "execution_count": 4,
   "metadata": {},
   "outputs": [
    {
     "name": "stdout",
     "output_type": "stream",
     "text": [
      "Original code word: [0, 1, 0, 0, 1, 0, 1]\n",
      "Code word w. error: [0, 1, 0, 1, 1, 0, 1]\n"
     ]
    }
   ],
   "source": [
    "# Method introducing a random 1 bit error (bit-flip) to the code_word,\n",
    "# immitating a noisy data-transfer\n",
    "def noisy_channel (code_word):\n",
    "    \n",
    "    # Variable to hold the code word with the 1-bit error\n",
    "    err_code_word = code_word[:]\n",
    "    # Variable to hold a random location of a 1-bit error\n",
    "    bit_flip_location = random.randint(0,len(code_word)-1)\n",
    "    \n",
    "    # If-loop to flip the bit at the random location of error\n",
    "    if code_word[bit_flip_location] == 1:\n",
    "        err_code_word[bit_flip_location] = 0\n",
    "    else:\n",
    "        err_code_word[bit_flip_location] = 1\n",
    "    \n",
    "    return (err_code_word)\n",
    "print('Original code word:', encoder([1,0,1,0]))\n",
    "err_code_word = noisy_channel(encoder([1,0,1,0]))\n",
    "print('Code word w. error:', err_code_word)\n",
    "\n"
   ]
  },
  {
   "cell_type": "markdown",
   "metadata": {},
   "source": [
    "When running the above code, it should hopefully be apparent, that a bit in one of the 7 positions has been flipped. This is obviously a problem, as the data is not representative of the original data any more. There is of course a chance, that the flipped bit is one of the parity bits, and as such, the original 4 bits of data are still correct. But had we sent the 4 bits of data without 3 parity bits, a flipped bit would inevitably have been a bit of the original data, and in that case we would not have any means of finding and correcting this error by using the parity bits.\n",
    "The following code introduces a method, that looks for errors and correct these, if any are present. This is done by making use of a so-caled _parity check matrix_ (named H_matrix in the code), looking at the 3 parity bits for information on whether an error is present in the data, and if so, in which location it is, so the bit in this position can be switched back.\n",
    "The details of the code are explained below."
   ]
  },
  {
   "cell_type": "code",
   "execution_count": 5,
   "metadata": {},
   "outputs": [
    {
     "name": "stdout",
     "output_type": "stream",
     "text": [
      "Original code word:            [0, 1, 0, 0, 1, 0, 1]\n",
      "Code word w. error:            [0, 1, 0, 1, 1, 0, 1]\n",
      "Code word w. error correction: [0, 1, 0, 0, 1, 0, 1]\n"
     ]
    }
   ],
   "source": [
    "\n",
    "# Method for correcting the 1-bit error introduced to the original 7-bit code word\n",
    "def error_correction (err_code_word):\n",
    "    \n",
    "    # This is the parity-check matrix\n",
    "    H_Matrix = [[1,0,1,0,1,0,1],\n",
    "                [0,1,1,0,0,1,1],\n",
    "                [0,0,0,1,1,1,1]]\n",
    "    \n",
    "    # Variable to hold the location of the flipped bit (bit error)\n",
    "    error_location = 0\n",
    "    # Variable to hold the code word with the erroneous bit flipped back\n",
    "    corrected_code_word = err_code_word[:]\n",
    "    \n",
    "    # For-loop to test the number of rows in the matrix\n",
    "    for i in range(len(H_Matrix)):\n",
    "        # Variable to hold the dot-product\n",
    "        count = 0\n",
    "        # Nested for-loop to calculate the dot-product of every row multiplicated by the 7-bit code word\n",
    "        for x in range(len(err_code_word)):\n",
    "            if err_code_word[x] * H_Matrix[i][x] == 1:\n",
    "                count += 1\n",
    "        # If-loop testing, whether the dot-product is even or not. \n",
    "        #With an uneven dot-product, the binary value of the parity-bit is added to the error-location\n",
    "        if count%2 == 1:\n",
    "            error_location += 2**i\n",
    "    \n",
    "    # If loop testing if the error loaction is 0 (no error).\n",
    "    # In case it is not, the bit at the error location will be flipped back\n",
    "    if error_location != 0:\n",
    "        if err_code_word[error_location-1] == 1:\n",
    "            corrected_code_word[error_location-1] = 0\n",
    "        else: \n",
    "            corrected_code_word[error_location-1] = 1\n",
    "    \n",
    "    return (corrected_code_word)\n",
    "\n",
    "print('Original code word:           ', encoder([1,0,1,0]))\n",
    "print('Code word w. error:           ', err_code_word)\n",
    "print('Code word w. error correction:', error_correction(err_code_word))"
   ]
  },
  {
   "cell_type": "markdown",
   "metadata": {},
   "source": [
    "The above code, location and correcting the random bit-error in principle works just like the operation of encoding the 4-bit message. The H-matrix, being a 3x7 matrix, when multiplied by our 7x1 code word vector, results in a 3x1 vector representing the results of a parity-check of the 3 parity bits in the code word. If we look at the first row of the H-matrix __[1,0,1,0,1,0,1]__, it has 1's in position 1,3,5 and 7. Position 1 is the position of the parity bit itself, and if we look back at the table above (subsection on __parity bits__), we see that the first parity bit does indeed look to the data-bits in positions 3,5,7. As the Hamming code is working with even parity bits, the dot product of looking at the 4 positions should be an even number (once again the _modulus-operator_ is used with 2 (%2) to make this check in the code). If the parity check is even, the modulus-operation will result in a 0, indicating that the sum of 1's is still even, and that no single bits have been flipped in any of the 4 positions 1,3,5,7, as the dot-product would otherwise have been odd.\n",
    "This means, that in case there are no errors in the data, the result of multiplying the H-matrix by the code word will be a [0,0,0] vector. In our case an error has been introduced, as 1 bit has been flipped. And this is where the Hamming code gets really clever. If the flipped bit is one of the parity bits, it is quite obvious, as the parity bit will now be giving the wrong information (saying even, when the number of one's being looked at is odd or the other way around). If, on the other hand, the bit-error is in a bit of the original data, all bits of data are \"covered\" by at least 2 parity bits (3 parity bits for data-bit 1). This means, that when a data-bit is flipped, 2 parity bits will actually be giving the wrong information (saying even, when the number of one's being looked at is odd or the other way around). Knowing which 2 parity bits are wrong, we also know which data-bit has been flipped, as it must be the one, shared by the 2 parity bits, that are \"lying\". This information is simply used to flip back the bit in the position corresponding position (a parity bit is 1 parity bit is wrong, and a data-bit if 2 or 3 parity-bits are wrong.\n",
    "The following code completes the last step of utilizing the Hamming code, by decoding the error corrected 7-bit code word back into the original 4-bit data-string by utilizing a _decoding matrix_ (named R_matrix in the code). The details of the code are explained below:\n"
   ]
  },
  {
   "cell_type": "markdown",
   "metadata": {},
   "source": [
    "\n",
    "## Question 1.2\n"
   ]
  },
  {
   "cell_type": "code",
   "execution_count": 6,
   "metadata": {},
   "outputs": [
    {
     "name": "stdout",
     "output_type": "stream",
     "text": [
      "Original 4-bit message:        [1, 0, 1, 0]\n",
      "Original code word:            [0, 1, 0, 0, 1, 0, 1]\n",
      "Code word w. error:            [0, 1, 0, 1, 1, 0, 1]\n",
      "Code word w. error correction: [0, 1, 0, 0, 1, 0, 1]\n",
      "Decoded code word:             [1, 0, 1, 0]\n"
     ]
    }
   ],
   "source": [
    "# Method for convert a 7-bit codeword back into a 4-bit message, \n",
    "# removing 3 parity bits in the process\n",
    "def decoder(code_word):\n",
    "    \n",
    "    # This is the decoding matrix\n",
    "    R_matrix = [[0,0,0,0,0,0,1],\n",
    "                [0,0,0,0,0,1,0],\n",
    "                [0,0,0,0,1,0,0],\n",
    "                [0,0,1,0,0,0,0]]\n",
    "    \n",
    "    # Variable to hold the decoded 4-bit message\n",
    "    message = []\n",
    "    \n",
    "    # For-loop to test the number of rows in the matrix\n",
    "    for i in range(len(R_matrix)):\n",
    "        # Variable to hold the dot-product\n",
    "        count = 0\n",
    "        # Nested for-loop to calculate the dot-product of every row multiplicated by the 7-bit code_word\n",
    "        for x in range(len(code_word)):\n",
    "            if code_word[x] * R_matrix[i][x] == 1:\n",
    "                count += 1\n",
    "        # Every dot-product is appended to the message variable, \n",
    "        # recreating the original 4-bit message\n",
    "        message.append(count)\n",
    "    \n",
    "    return(message)\n",
    "\n",
    "print('Original 4-bit message:        [1, 0, 1, 0]')\n",
    "print('Original code word:           ', encoder([1,0,1,0]))\n",
    "print('Code word w. error:           ', err_code_word)\n",
    "print('Code word w. error correction:', error_correction(err_code_word))\n",
    "print('Decoded code word:            ', decoder(error_correction(err_code_word)))\n",
    "\n"
   ]
  },
  {
   "cell_type": "markdown",
   "metadata": {},
   "source": [
    "The decoding process is basically performing the opossite of the encoding process. This time we are multiplying the 4x7 H_matrix by the 7x1 code word. This will result in a 4x1 vector correctly representing the original data string. Looking at the 4 rows of the H-matrix, it becomes quite clear, that each one is looking at just 1 position in the 7-bit code word. The first row is only looking at the 7th position, which is where the 1 bit of the original 4-bit data-string was placed (as explained, the data-string was reversed due to the way the Hamming code used in this paper is constructed. By the design of the H-matrix in this way, the data is now turned back around, and the 3 parity bits are sorted out. What we are left with is the original 4 bits of data, all correct, even though they passed through a noisy channel, that introduced an error to one of the bits.\n",
    "\n",
    "It is worth noting, that the 7x4 Hamming code is only effective at correcting 1 bit errors. The result of looking at the parity bits will not be distinguishable between 1 or 2 bit errors, yet with 2 flipped bits, it will not be possible to deduct their position, and as such, any attempt at correcting 2 bit errors will yield a wrong result.\n"
   ]
  },
  {
   "cell_type": "markdown",
   "metadata": {},
   "source": [
    "## Question 1.3"
   ]
  },
  {
   "cell_type": "markdown",
   "metadata": {},
   "source": [
    "\n",
    "The following code illustrates the overall functionality of all methods with 4 widely different 4-bit messages\n"
   ]
  },
  {
   "cell_type": "code",
   "execution_count": 9,
   "metadata": {},
   "outputs": [
    {
     "name": "stdout",
     "output_type": "stream",
     "text": [
      "\n",
      "The original message:                             [0, 0, 0, 1]\n",
      "The 7-bit code_word of the message:               [1, 1, 1, 0, 0, 0, 0]\n",
      "With a random bit flip the code word becomes:     [1, 1, 0, 0, 0, 0, 0]\n",
      "Code word after error detection and correction:   [1, 1, 1, 0, 0, 0, 0]\n",
      "The decoded 4 bit message after error-correction: [0, 0, 0, 1]\n",
      "\n",
      "The original message:                             [0, 1, 1, 0]\n",
      "The 7-bit code_word of the message:               [1, 1, 0, 0, 1, 1, 0]\n",
      "With a random bit flip the code word becomes:     [1, 1, 0, 1, 1, 1, 0]\n",
      "Code word after error detection and correction:   [1, 1, 0, 0, 1, 1, 0]\n",
      "The decoded 4 bit message after error-correction: [0, 1, 1, 0]\n",
      "\n",
      "The original message:                             [1, 1, 1, 0]\n",
      "The 7-bit code_word of the message:               [0, 0, 0, 1, 1, 1, 1]\n",
      "With a random bit flip the code word becomes:     [0, 0, 0, 1, 1, 0, 1]\n",
      "Code word after error detection and correction:   [0, 0, 0, 1, 1, 1, 1]\n",
      "The decoded 4 bit message after error-correction: [1, 1, 1, 0]\n",
      "\n",
      "The original message:                             [1, 1, 1, 1]\n",
      "The 7-bit code_word of the message:               [1, 1, 1, 1, 1, 1, 1]\n",
      "With a random bit flip the code word becomes:     [1, 1, 1, 1, 1, 0, 1]\n",
      "Code word after error detection and correction:   [1, 1, 1, 1, 1, 1, 1]\n",
      "The decoded 4 bit message after error-correction: [1, 1, 1, 1]\n"
     ]
    }
   ],
   "source": [
    "message = [0,0,0,1]\n",
    "print('\\nThe original message:                            ', message)\n",
    "print('The 7-bit code_word of the message:              ', encoder(message))\n",
    "print('With a random bit flip the code word becomes:    ', noisy_channel(encoder(message)))\n",
    "print('Code word after error detection and correction:  ', error_correction(noisy_channel(encoder(message))))\n",
    "print('The decoded 4 bit message after error-correction:', decoder(error_correction(noisy_channel(encoder(message)))))\n",
    "\n",
    "message = [0,1,1,0]\n",
    "print('\\nThe original message:                            ', message)\n",
    "print('The 7-bit code_word of the message:              ', encoder(message))\n",
    "print('With a random bit flip the code word becomes:    ', noisy_channel(encoder(message)))\n",
    "print('Code word after error detection and correction:  ', error_correction(noisy_channel(encoder(message))))\n",
    "print('The decoded 4 bit message after error-correction:', decoder(error_correction(noisy_channel(encoder(message)))))\n",
    "\n",
    "message = [1,1,1,0]\n",
    "print('\\nThe original message:                            ', message)\n",
    "print('The 7-bit code_word of the message:              ', encoder(message))\n",
    "print('With a random bit flip the code word becomes:    ', noisy_channel(encoder(message)))\n",
    "print('Code word after error detection and correction:  ', error_correction(noisy_channel(encoder(message))))\n",
    "print('The decoded 4 bit message after error-correction:', decoder(error_correction(noisy_channel(encoder(message)))))\n",
    "\n",
    "message = [1,1,1,1]\n",
    "print('\\nThe original message:                            ', message)\n",
    "print('The 7-bit code_word of the message:              ', encoder(message))\n",
    "print('With a random bit flip the code word becomes:    ', noisy_channel(encoder(message)))\n",
    "print('Code word after error detection and correction:  ', error_correction(noisy_channel(encoder(message))))\n",
    "print('The decoded 4 bit message after error-correction:', decoder(error_correction(noisy_channel(encoder(message)))))"
   ]
  },
  {
   "cell_type": "markdown",
   "metadata": {},
   "source": [
    "# Question 2\n",
    "\n",
    "## Numpy \n",
    "Numpy (Numerical Python) is the core library for scientific computing in Python. It provides a high-performance multidimensional array object, and tools for working with these arrays.  Numpy is heavily used within the field of machine learning, due to its mathematical and logical operations on arrays. It provides an abundance of useful features for operations on n-arrays and matrices in Python. \n",
    "\n",
    "## Implementation "
   ]
  },
  {
   "cell_type": "markdown",
   "metadata": {},
   "source": [
    "The objective of Question 2 is to create our own implementation of a few functionalities supported by the Numpy library. We will call out implementation Snumpy, and create a dedicated class for it (referenced ‘snp’).\n",
    "\n",
    "Our implementation looks as follows:\n"
   ]
  },
  {
   "cell_type": "code",
   "execution_count": 8,
   "metadata": {},
   "outputs": [],
   "source": [
    "# Creating the class Snumpy\n",
    "class Snumpy():\n",
    "    \n",
    "    #Create ones function\n",
    "    def ones(self, length):\n",
    "        #Create list\n",
    "        list = []\n",
    "        #Make for loop and append 1\n",
    "        for i in range(length):\n",
    "            list.append(1)\n",
    "        return list\n",
    "    \n",
    "\n",
    "    #Create zeros function\n",
    "    def zeros(self, length):\n",
    "        list = []\n",
    "        for i in range(length):\n",
    "            list.append(0)\n",
    "        return list\n",
    "    \n",
    "    \n",
    "    #Create function\n",
    "    def reshape(self, array, tuple):\n",
    "        #Create matrix list\n",
    "        matrix = []\n",
    "        #Identify the number of columns\n",
    "        columns = tuple[1]\n",
    "        #Make for loop\n",
    "        for i in range(tuple[0]):\n",
    "            #Split array into even sizes\n",
    "            split = array[columns-tuple[1]:columns]\n",
    "            matrix.append(split)\n",
    "            columns = columns + tuple[1]\n",
    "    \n",
    "    \n",
    "    #Create shape function\n",
    "    def shape(self, array):\n",
    "        rows = len(array)\n",
    "        #Check \n",
    "        if isinstance(array[0], list):\n",
    "            columns = len(array[0])\n",
    "        else:\n",
    "            columns = 0\n",
    "        return (rows, columns)\n",
    "    \n",
    "    \n",
    "    def append(self, array1, array2):\n",
    "        result = []\n",
    "        if self.shape(array1) == self.shape(array2):\n",
    "            result.append(array1)\n",
    "            result.append(array2)\n",
    "            return result\n",
    "        else:\n",
    "            return \"Those arrays can not be appended.\"\n",
    "    \n",
    "    \n",
    "    def get(self, array, tuple):\n",
    "        return array[tuple[0]][tuple[1]]\n",
    "    \n",
    "    \n",
    "    def dotproduct(self, array1, array2):\n",
    "        if self.shape(array1) == self.shape(array2):\n",
    "            result = 0\n",
    "            for i in range(len(array1)):\n",
    "                result += array1[i] * array2[i]\n",
    "            return result\n",
    "        else:\n",
    "            return \"You can not apply the dot product to these arrays.\""
   ]
  },
  {
   "cell_type": "code",
   "execution_count": 10,
   "metadata": {},
   "outputs": [
    {
     "name": "stdout",
     "output_type": "stream",
     "text": [
      "[1, 1, 1, 1, 1]\n",
      "[0, 0, 0, 0, 0]\n",
      "None\n",
      "(4, 2)\n",
      "[[1, 2, 3, 4, 5, 6], [7, 8, 9, 10, 11, 12]]\n",
      "Those arrays can not be appended.\n",
      "6\n",
      "217\n"
     ]
    }
   ],
   "source": [
    "snp = Snumpy()\n",
    "\n",
    "# Question 1\n",
    "print(snp.ones(5))\n",
    "\n",
    "# Question 2\n",
    "print(snp.zeros(5))\n",
    "\n",
    "# Question 3\n",
    "array = [1, 2, 3, 4, 5, 6]\n",
    "tuple = (3, 2)\n",
    "print(snp.reshape(array, tuple))\n",
    "\n",
    "# Question 4\n",
    "array1 = [[4,2],[3,1],[2,5],[1,6]]\n",
    "print(snp.shape(array1))\n",
    "\n",
    "# Question 5\n",
    "array1 = [1, 2, 3, 4, 5, 6]\n",
    "array2 = [7, 8, 9, 10, 11, 12]\n",
    "print(snp.append(array1, array2))\n",
    "\n",
    "array3 = [[1, 2, 3],[4, 5, 6]]\n",
    "print(snp.append(array2, array3))\n",
    "\n",
    "# Question 6\n",
    "print(snp.get(array3, (1,2)))\n",
    "\n",
    "# Question 7\n",
    "print(snp.dotproduct(array1, array2))\n"
   ]
  },
  {
   "cell_type": "markdown",
   "metadata": {},
   "source": [
    "\n",
    "__1__\n",
    "\n",
    "The first question deals with creating a function within our Snumpy class called ‘ones(Int), that takes an integer as argument. This function will return an array of length Int containing only ones. \n",
    "\n",
    "First we define the function and its parameter. Inside the function we first create a list to host the values. Then we loop over the length of the integer, and append the number 1 to the list for every iteration of the loop. At last we return the result.\n",
    "In Numpy, you could simply have done: `np.ones(Int)`\n"
   ]
  },
  {
   "cell_type": "markdown",
   "metadata": {},
   "source": [
    "__2__\n",
    "\n",
    "Similarly, in question 2 you have to return an array of zeros. \n",
    "\n",
    "It is the same principle as the above function ‘ones’, this time it is just zeroes we append to the array, instead of 1’s."
   ]
  },
  {
   "cell_type": "markdown",
   "metadata": {},
   "source": [
    "__3__\n",
    "\n",
    "In question three we have to make our own implementation of Numpy’s reshape function, which takes an array and converts it into the dimensions specified by a tuple (row, column). \n",
    "\n",
    "First we create the matrix variable and find the number of columns defined in the tuple. Then we loop through each row of the tuple, and split the array into even chunks, with the size of the columns defined in the tuple. Then we append the split into the matrix."
   ]
  },
  {
   "cell_type": "markdown",
   "metadata": {},
   "source": [
    "__4__ \n",
    "\n",
    "Question 4 is about returning a tuple with the dimensions of a matrix or vector.\n",
    "\n",
    "Initially, we find the number of rows in the array, and then do a quick check of the dimensions of the array. Then we return the result as a tuple."
   ]
  },
  {
   "cell_type": "markdown",
   "metadata": {},
   "source": [
    "__5__\n",
    "\n",
    "Then we had to create an ‘append(array1, array2)’ function, that takes two input vectors / matrices, and returns a new vector/matrix that is the combination of the two. \n",
    "\n",
    "First we define the result variable and then we check whether the vectors/matrices are in fact the same shape. If not, we throw an error saying they cannot be appended."
   ]
  },
  {
   "cell_type": "markdown",
   "metadata": {},
   "source": [
    "__6__\n",
    "\n",
    "Question 6 deals with creating a ‘get(array, (row, column))’ function, that returns the value specified by the coordinate point of the array provided. \n"
   ]
  },
  {
   "cell_type": "markdown",
   "metadata": {},
   "source": [
    "__7__\n",
    "\n",
    "The last question is about creating a function that computes the dot product of two arrays."
   ]
  },
  {
   "cell_type": "markdown",
   "metadata": {},
   "source": [
    "# Question 3"
   ]
  },
  {
   "cell_type": "markdown",
   "metadata": {},
   "source": [
    "## Implementation"
   ]
  },
  {
   "cell_type": "code",
   "execution_count": 48,
   "metadata": {},
   "outputs": [],
   "source": [
    "#Importing libraries\n",
    "import string\n",
    "import math\n",
    "import pandas as pd\n",
    "import numpy as np\n",
    "\n",
    "\n",
    "corpus = [\"this is the first document.\", \n",
    "          \"This is the second document.\", \n",
    "          \"this was the third document\",\n",
    "          \"document document document document\"]"
   ]
  },
  {
   "cell_type": "code",
   "execution_count": 49,
   "metadata": {},
   "outputs": [],
   "source": [
    "def build_vectors(corpus=list,searchstring=str):\n",
    "    \n",
    "    #Build word counters for textcorpus \n",
    "    counters = []\n",
    "    \n",
    "    for document in corpus:\n",
    "        counter = {}\n",
    "        \n",
    "        #Creating seperate documents with one word per element. \n",
    "        document = [word.strip(string.punctuation).lower() \n",
    "                    for word in document.split()]\n",
    "        \n",
    "        # Loop counting words for every document in corpus. \n",
    "        for word in document:\n",
    "            if word not in counter:\n",
    "                counter[word] = 1\n",
    "            else:\n",
    "                counter[word] += 1  \n",
    "        #Dictionary is appended to list\n",
    "        counters.append(counter)\n",
    "    \n",
    "    #Build word counter for searchstring \n",
    "    searchstring_counter = {}\n",
    "    searchstring = [word.strip(string.punctuation).lower() \n",
    "                    for word in searchstring.split()]\n",
    "    \n",
    "    for word in searchstring:\n",
    "            if word not in searchstring_counter:\n",
    "                searchstring_counter[word] = 1\n",
    "            else:\n",
    "                searchstring_counter[word] += 1\n",
    "    \n",
    "    #Set searchstring as last element in counters \n",
    "    counters.append(searchstring_counter)\n",
    "\n",
    "    #Build combined dict\n",
    "    #Taking a set of keys(unique representation) and union them into combined dict\n",
    "    combined_dict = set().union(*counters)\n",
    "    \n",
    "    #Build vectors\n",
    "    #Building vectors in a comprehension list with conditions. \n",
    "    vector_list = []\n",
    "    for c in range(len(counters)): \n",
    "        i=0\n",
    "        #For word in combined dict, check if word is in corresponding counter.\n",
    "        #If true, append value to vector, else set value as 0.\n",
    "        vector = [i + counters[c][word] if word in counters[c] else i + 0 \n",
    "                  for word in combined_dict] \n",
    "        vector_list.append(vector)\n",
    "\n",
    "    return counters, combined_dict, vector_list\n",
    "\n",
    "\n"
   ]
  },
  {
   "cell_type": "code",
   "execution_count": 50,
   "metadata": {},
   "outputs": [],
   "source": [
    "#Function for finding dot product, taking vector list as parameter\n",
    "def dotproduct(vl):\n",
    "    dp_dict = {}\n",
    "    for vector in vl[:-1]:\n",
    "        doc = 'Doc' + str((vl.index(vector)+1))\n",
    "        dot_product = sum(n1 * n2 for n1, n2 in zip(vector, vl[-1]))\n",
    "        dp_dict[doc] = dot_product\n",
    "    return dp_dict\n"
   ]
  },
  {
   "cell_type": "markdown",
   "metadata": {},
   "source": [
    "This function we take a list of vectors and compute the dotproduct between search document vector and the different corpus document vectors. \n",
    "$\\newline$\n",
    "$D$ = document vectors have points $d_1, d_2 ... d_n$, $S$ = searchdocument vector have points $s_1, s_2 ... s_n$. Algebraic definition:\n",
    "\n",
    "$$ D \\cdot S = \\displaystyle\\sum_{i=1}^{n} d_i s_i = d_1 s_1 + d_2 s_2 + ... + d_n s_n $$\n"
   ]
  },
  {
   "cell_type": "code",
   "execution_count": 51,
   "metadata": {},
   "outputs": [],
   "source": [
    "def euclideandistance(vl):\n",
    "    ed_dict = {}\n",
    "    for vector in vl[:-1]:\n",
    "        doc = 'Doc' + str((vl.index(vector)+1))\n",
    "        euclidean_distance = math.sqrt(sum(((n1 - n2)**2) \n",
    "                                           for n1, n2 in zip(vector, vl[-1])))\n",
    "        ed_dict[doc] = euclidean_distance\n",
    "    return ed_dict"
   ]
  },
  {
   "cell_type": "markdown",
   "metadata": {},
   "source": [
    "The euclidian function takes two vectors to compute the distance between endpoints of the different corpus documents vectors and the search document. \n",
    "$\\newline$\n",
    "$d$ = document vectors points, $s$ = searchdocument vector points. Mathematical definition:\n",
    "\n",
    "\n",
    "$$ distance(d,s) = \\sqrt{(d_1-s_1)^2+(d_2-s_2)^2+(d_n-s_n)^2} $$"
   ]
  },
  {
   "cell_type": "code",
   "execution_count": 52,
   "metadata": {},
   "outputs": [],
   "source": [
    "def cosinesimilarity(vl):\n",
    "    cs_dict = {}\n",
    "    for vector in vl[:-1]:\n",
    "        doc = 'Doc' + str((vl.index(vector)+1))\n",
    "        dot_product = sum(n1 * n2 for n1, n2 in zip(vector, vl[-1]))\n",
    "        vector_norm = math.sqrt(sum(n**2 for n in vector))\n",
    "        sstr_norm = math.sqrt(sum(n**2 for n in vl[-1]))\n",
    "        product_norms = vector_norm * sstr_norm\n",
    "        cosine_similarity = dot_product/product_norms\n",
    "        cs_dict[doc] = cosine_similarity\n",
    "    return cs_dict"
   ]
  },
  {
   "cell_type": "markdown",
   "metadata": {},
   "source": [
    "Cosine similarity takes to vectors to compute the angle between the vectors. A value of 1 means that the vectors are similar, implying that the vectors are on top of eachother, where a value of 0 causes orthogonal vectors.\n",
    "\n",
    "\n",
    "\n",
    "$D$ = document vectors \n",
    "\n",
    "$S$ = searchdocument vector\n",
    "\n",
    "\n",
    "\n",
    "Algebraic definition:\n",
    "\n",
    "$$ cos(\\theta)=\\frac{D \\cdot S}{\\| D \\| \\| S \\|} =\\frac{\\displaystyle\\sum_{i=1}^{n} D_i S_i}{\\sqrt{\\displaystyle\\sum_{i=1}^{n} D_i^2}\\sqrt{\\displaystyle\\sum_{i=1}^{n} S_i^2}}$$\n"
   ]
  },
  {
   "cell_type": "code",
   "execution_count": 61,
   "metadata": {},
   "outputs": [],
   "source": [
    "#The following code pieces displays the results\n",
    "# Set search string\n",
    "sstr=\"this was the fourth document\"\n",
    "counters, combined_dict, vector_list = build_vectors(corpus,sstr)\n",
    "\n",
    "#Visualize data\n",
    "combined_dict_list = [combined_dict]\n",
    "\n",
    "df_vectors = pd.DataFrame(vector_list)\n",
    "df_counters = pd.DataFrame(counters)\n",
    "df_combined = pd.DataFrame(combined_dict_list)"
   ]
  },
  {
   "cell_type": "code",
   "execution_count": 54,
   "metadata": {},
   "outputs": [
    {
     "data": {
      "text/html": [
       "<div>\n",
       "<style scoped>\n",
       "    .dataframe tbody tr th:only-of-type {\n",
       "        vertical-align: middle;\n",
       "    }\n",
       "\n",
       "    .dataframe tbody tr th {\n",
       "        vertical-align: top;\n",
       "    }\n",
       "\n",
       "    .dataframe thead th {\n",
       "        text-align: right;\n",
       "    }\n",
       "</style>\n",
       "<table border=\"1\" class=\"dataframe\">\n",
       "  <thead>\n",
       "    <tr style=\"text-align: right;\">\n",
       "      <th></th>\n",
       "      <th>document</th>\n",
       "      <th>first</th>\n",
       "      <th>fourth</th>\n",
       "      <th>is</th>\n",
       "      <th>second</th>\n",
       "      <th>the</th>\n",
       "      <th>third</th>\n",
       "      <th>this</th>\n",
       "      <th>was</th>\n",
       "    </tr>\n",
       "  </thead>\n",
       "  <tbody>\n",
       "    <tr>\n",
       "      <th>0</th>\n",
       "      <td>1</td>\n",
       "      <td>1.0</td>\n",
       "      <td>NaN</td>\n",
       "      <td>1.0</td>\n",
       "      <td>NaN</td>\n",
       "      <td>1.0</td>\n",
       "      <td>NaN</td>\n",
       "      <td>1.0</td>\n",
       "      <td>NaN</td>\n",
       "    </tr>\n",
       "    <tr>\n",
       "      <th>1</th>\n",
       "      <td>1</td>\n",
       "      <td>NaN</td>\n",
       "      <td>NaN</td>\n",
       "      <td>1.0</td>\n",
       "      <td>1.0</td>\n",
       "      <td>1.0</td>\n",
       "      <td>NaN</td>\n",
       "      <td>1.0</td>\n",
       "      <td>NaN</td>\n",
       "    </tr>\n",
       "    <tr>\n",
       "      <th>2</th>\n",
       "      <td>1</td>\n",
       "      <td>NaN</td>\n",
       "      <td>NaN</td>\n",
       "      <td>NaN</td>\n",
       "      <td>NaN</td>\n",
       "      <td>1.0</td>\n",
       "      <td>1.0</td>\n",
       "      <td>1.0</td>\n",
       "      <td>1.0</td>\n",
       "    </tr>\n",
       "    <tr>\n",
       "      <th>3</th>\n",
       "      <td>4</td>\n",
       "      <td>NaN</td>\n",
       "      <td>NaN</td>\n",
       "      <td>NaN</td>\n",
       "      <td>NaN</td>\n",
       "      <td>NaN</td>\n",
       "      <td>NaN</td>\n",
       "      <td>NaN</td>\n",
       "      <td>NaN</td>\n",
       "    </tr>\n",
       "    <tr>\n",
       "      <th>4</th>\n",
       "      <td>1</td>\n",
       "      <td>NaN</td>\n",
       "      <td>1.0</td>\n",
       "      <td>NaN</td>\n",
       "      <td>NaN</td>\n",
       "      <td>1.0</td>\n",
       "      <td>NaN</td>\n",
       "      <td>1.0</td>\n",
       "      <td>1.0</td>\n",
       "    </tr>\n",
       "  </tbody>\n",
       "</table>\n",
       "</div>"
      ],
      "text/plain": [
       "   document  first  fourth   is  second  the  third  this  was\n",
       "0         1    1.0     NaN  1.0     NaN  1.0    NaN   1.0  NaN\n",
       "1         1    NaN     NaN  1.0     1.0  1.0    NaN   1.0  NaN\n",
       "2         1    NaN     NaN  NaN     NaN  1.0    1.0   1.0  1.0\n",
       "3         4    NaN     NaN  NaN     NaN  NaN    NaN   NaN  NaN\n",
       "4         1    NaN     1.0  NaN     NaN  1.0    NaN   1.0  1.0"
      ]
     },
     "execution_count": 54,
     "metadata": {},
     "output_type": "execute_result"
    }
   ],
   "source": [
    "df_counters"
   ]
  },
  {
   "cell_type": "code",
   "execution_count": 55,
   "metadata": {},
   "outputs": [
    {
     "data": {
      "text/html": [
       "<div>\n",
       "<style scoped>\n",
       "    .dataframe tbody tr th:only-of-type {\n",
       "        vertical-align: middle;\n",
       "    }\n",
       "\n",
       "    .dataframe tbody tr th {\n",
       "        vertical-align: top;\n",
       "    }\n",
       "\n",
       "    .dataframe thead th {\n",
       "        text-align: right;\n",
       "    }\n",
       "</style>\n",
       "<table border=\"1\" class=\"dataframe\">\n",
       "  <thead>\n",
       "    <tr style=\"text-align: right;\">\n",
       "      <th></th>\n",
       "      <th>0</th>\n",
       "      <th>1</th>\n",
       "      <th>2</th>\n",
       "      <th>3</th>\n",
       "      <th>4</th>\n",
       "      <th>5</th>\n",
       "      <th>6</th>\n",
       "      <th>7</th>\n",
       "      <th>8</th>\n",
       "    </tr>\n",
       "  </thead>\n",
       "  <tbody>\n",
       "    <tr>\n",
       "      <th>0</th>\n",
       "      <td>the</td>\n",
       "      <td>third</td>\n",
       "      <td>was</td>\n",
       "      <td>document</td>\n",
       "      <td>second</td>\n",
       "      <td>first</td>\n",
       "      <td>this</td>\n",
       "      <td>fourth</td>\n",
       "      <td>is</td>\n",
       "    </tr>\n",
       "  </tbody>\n",
       "</table>\n",
       "</div>"
      ],
      "text/plain": [
       "     0      1    2         3       4      5     6       7   8\n",
       "0  the  third  was  document  second  first  this  fourth  is"
      ]
     },
     "execution_count": 55,
     "metadata": {},
     "output_type": "execute_result"
    }
   ],
   "source": [
    "df_combined"
   ]
  },
  {
   "cell_type": "code",
   "execution_count": 56,
   "metadata": {},
   "outputs": [
    {
     "data": {
      "text/html": [
       "<div>\n",
       "<style scoped>\n",
       "    .dataframe tbody tr th:only-of-type {\n",
       "        vertical-align: middle;\n",
       "    }\n",
       "\n",
       "    .dataframe tbody tr th {\n",
       "        vertical-align: top;\n",
       "    }\n",
       "\n",
       "    .dataframe thead th {\n",
       "        text-align: right;\n",
       "    }\n",
       "</style>\n",
       "<table border=\"1\" class=\"dataframe\">\n",
       "  <thead>\n",
       "    <tr style=\"text-align: right;\">\n",
       "      <th></th>\n",
       "      <th>0</th>\n",
       "      <th>1</th>\n",
       "      <th>2</th>\n",
       "      <th>3</th>\n",
       "      <th>4</th>\n",
       "      <th>5</th>\n",
       "      <th>6</th>\n",
       "      <th>7</th>\n",
       "      <th>8</th>\n",
       "    </tr>\n",
       "  </thead>\n",
       "  <tbody>\n",
       "    <tr>\n",
       "      <th>0</th>\n",
       "      <td>1</td>\n",
       "      <td>0</td>\n",
       "      <td>0</td>\n",
       "      <td>1</td>\n",
       "      <td>0</td>\n",
       "      <td>1</td>\n",
       "      <td>1</td>\n",
       "      <td>0</td>\n",
       "      <td>1</td>\n",
       "    </tr>\n",
       "    <tr>\n",
       "      <th>1</th>\n",
       "      <td>1</td>\n",
       "      <td>0</td>\n",
       "      <td>0</td>\n",
       "      <td>1</td>\n",
       "      <td>1</td>\n",
       "      <td>0</td>\n",
       "      <td>1</td>\n",
       "      <td>0</td>\n",
       "      <td>1</td>\n",
       "    </tr>\n",
       "    <tr>\n",
       "      <th>2</th>\n",
       "      <td>1</td>\n",
       "      <td>1</td>\n",
       "      <td>1</td>\n",
       "      <td>1</td>\n",
       "      <td>0</td>\n",
       "      <td>0</td>\n",
       "      <td>1</td>\n",
       "      <td>0</td>\n",
       "      <td>0</td>\n",
       "    </tr>\n",
       "    <tr>\n",
       "      <th>3</th>\n",
       "      <td>0</td>\n",
       "      <td>0</td>\n",
       "      <td>0</td>\n",
       "      <td>4</td>\n",
       "      <td>0</td>\n",
       "      <td>0</td>\n",
       "      <td>0</td>\n",
       "      <td>0</td>\n",
       "      <td>0</td>\n",
       "    </tr>\n",
       "    <tr>\n",
       "      <th>4</th>\n",
       "      <td>1</td>\n",
       "      <td>0</td>\n",
       "      <td>1</td>\n",
       "      <td>1</td>\n",
       "      <td>0</td>\n",
       "      <td>0</td>\n",
       "      <td>1</td>\n",
       "      <td>1</td>\n",
       "      <td>0</td>\n",
       "    </tr>\n",
       "  </tbody>\n",
       "</table>\n",
       "</div>"
      ],
      "text/plain": [
       "   0  1  2  3  4  5  6  7  8\n",
       "0  1  0  0  1  0  1  1  0  1\n",
       "1  1  0  0  1  1  0  1  0  1\n",
       "2  1  1  1  1  0  0  1  0  0\n",
       "3  0  0  0  4  0  0  0  0  0\n",
       "4  1  0  1  1  0  0  1  1  0"
      ]
     },
     "execution_count": 56,
     "metadata": {},
     "output_type": "execute_result"
    }
   ],
   "source": [
    "df_vectors"
   ]
  },
  {
   "cell_type": "code",
   "execution_count": 57,
   "metadata": {},
   "outputs": [
    {
     "data": {
      "text/html": [
       "<div>\n",
       "<style scoped>\n",
       "    .dataframe tbody tr th:only-of-type {\n",
       "        vertical-align: middle;\n",
       "    }\n",
       "\n",
       "    .dataframe tbody tr th {\n",
       "        vertical-align: top;\n",
       "    }\n",
       "\n",
       "    .dataframe thead th {\n",
       "        text-align: right;\n",
       "    }\n",
       "</style>\n",
       "<table border=\"1\" class=\"dataframe\">\n",
       "  <thead>\n",
       "    <tr style=\"text-align: right;\">\n",
       "      <th></th>\n",
       "      <th>Doc1</th>\n",
       "      <th>Doc2</th>\n",
       "      <th>Doc3</th>\n",
       "      <th>Doc4</th>\n",
       "    </tr>\n",
       "  </thead>\n",
       "  <tbody>\n",
       "    <tr>\n",
       "      <th>0</th>\n",
       "      <td>3</td>\n",
       "      <td>3</td>\n",
       "      <td>4</td>\n",
       "      <td>4</td>\n",
       "    </tr>\n",
       "  </tbody>\n",
       "</table>\n",
       "</div>"
      ],
      "text/plain": [
       "   Doc1  Doc2  Doc3  Doc4\n",
       "0     3     3     4     4"
      ]
     },
     "execution_count": 57,
     "metadata": {},
     "output_type": "execute_result"
    }
   ],
   "source": [
    "df_dotproduct = pd.DataFrame([dotproduct(vector_list)])\n",
    "df_dotproduct\n",
    "#df_dotproduct.sort_values(by)"
   ]
  },
  {
   "cell_type": "code",
   "execution_count": 58,
   "metadata": {},
   "outputs": [
    {
     "data": {
      "text/html": [
       "<div>\n",
       "<style scoped>\n",
       "    .dataframe tbody tr th:only-of-type {\n",
       "        vertical-align: middle;\n",
       "    }\n",
       "\n",
       "    .dataframe tbody tr th {\n",
       "        vertical-align: top;\n",
       "    }\n",
       "\n",
       "    .dataframe thead th {\n",
       "        text-align: right;\n",
       "    }\n",
       "</style>\n",
       "<table border=\"1\" class=\"dataframe\">\n",
       "  <thead>\n",
       "    <tr style=\"text-align: right;\">\n",
       "      <th></th>\n",
       "      <th>Doc1</th>\n",
       "      <th>Doc2</th>\n",
       "      <th>Doc3</th>\n",
       "      <th>Doc4</th>\n",
       "    </tr>\n",
       "  </thead>\n",
       "  <tbody>\n",
       "    <tr>\n",
       "      <th>0</th>\n",
       "      <td>2.0</td>\n",
       "      <td>2.0</td>\n",
       "      <td>1.414214</td>\n",
       "      <td>3.605551</td>\n",
       "    </tr>\n",
       "  </tbody>\n",
       "</table>\n",
       "</div>"
      ],
      "text/plain": [
       "   Doc1  Doc2      Doc3      Doc4\n",
       "0   2.0   2.0  1.414214  3.605551"
      ]
     },
     "execution_count": 58,
     "metadata": {},
     "output_type": "execute_result"
    }
   ],
   "source": [
    "df_euclideandistance = pd.DataFrame([euclideandistance(vector_list)])\n",
    "df_euclideandistance"
   ]
  },
  {
   "cell_type": "code",
   "execution_count": 59,
   "metadata": {},
   "outputs": [
    {
     "data": {
      "text/html": [
       "<div>\n",
       "<style scoped>\n",
       "    .dataframe tbody tr th:only-of-type {\n",
       "        vertical-align: middle;\n",
       "    }\n",
       "\n",
       "    .dataframe tbody tr th {\n",
       "        vertical-align: top;\n",
       "    }\n",
       "\n",
       "    .dataframe thead th {\n",
       "        text-align: right;\n",
       "    }\n",
       "</style>\n",
       "<table border=\"1\" class=\"dataframe\">\n",
       "  <thead>\n",
       "    <tr style=\"text-align: right;\">\n",
       "      <th></th>\n",
       "      <th>Doc1</th>\n",
       "      <th>Doc2</th>\n",
       "      <th>Doc3</th>\n",
       "      <th>Doc4</th>\n",
       "    </tr>\n",
       "  </thead>\n",
       "  <tbody>\n",
       "    <tr>\n",
       "      <th>0</th>\n",
       "      <td>0.6</td>\n",
       "      <td>0.6</td>\n",
       "      <td>0.8</td>\n",
       "      <td>0.447214</td>\n",
       "    </tr>\n",
       "  </tbody>\n",
       "</table>\n",
       "</div>"
      ],
      "text/plain": [
       "   Doc1  Doc2  Doc3      Doc4\n",
       "0   0.6   0.6   0.8  0.447214"
      ]
     },
     "execution_count": 59,
     "metadata": {},
     "output_type": "execute_result"
    }
   ],
   "source": [
    "df_cosinesimilarity = pd.DataFrame([cosinesimilarity(vector_list)])\n",
    "df_cosinesimilarity"
   ]
  },
  {
   "cell_type": "code",
   "execution_count": 60,
   "metadata": {},
   "outputs": [
    {
     "name": "stdout",
     "output_type": "stream",
     "text": [
      "1.4142135623730951\n",
      "4\n",
      "0.7999999999999998\n"
     ]
    }
   ],
   "source": [
    "#validate  with numpy\n",
    "doc1 = np.array(vector_list[0])\n",
    "doc2 = np.array(vector_list[1])\n",
    "doc3 = np.array(vector_list[2])\n",
    "doc4 = np.array(vector_list[3])\n",
    "sstr = np.array(vector_list[4])\n",
    "\n",
    "#Doc 3 vs. search documents\n",
    "dotproduct = np.dot(doc3,sstr)\n",
    "euclideandistance = np.linalg.norm(doc3-sstr)\n",
    "cosinesimilarity = np.dot(doc3, sstr) / (np.linalg.norm(doc3) * np.linalg.norm(sstr))\n",
    "\n",
    "print(euclideandistance)\n",
    "print(dotproduct)\n",
    "print(cosinesimilarity)"
   ]
  },
  {
   "cell_type": "markdown",
   "metadata": {},
   "source": [
    "## Discussions of formulas and measurements \n",
    "\n",
    "### Dot product\n",
    "In text similarity the dot product is a powerful way to determine if there is any similarity between two documents. A positive dot product means that there is similarity between the documents, in  some way. However, the product itself does not give an indication in what way the documents is similar. E.g. when document A consist of same words as document B, but document A has 10x more words. In this case the theta would be 0o ( cos(0) = 1 ) but the big distances would imply a high dot product, due to a large number of the words occurrences. Therefore, when using the dot product as a similarity measure, it is important to bring in additional measures in order to establish the type of similarity.\n",
    "\n",
    "\n",
    "$$ A \\cdot B =\\| A \\| \\| B \\| cos(\\theta) $$\n",
    "\n",
    " \n",
    "By this definition we know, that a dot product equals to zero, implies two orthogonal vectors, which means that the theta is 90 degrees. And as we know that the greater our theta is, the less the value of cosine of theta, thus the similarity decreases between two documents.\n",
    "\n",
    "### Euclidean distance\n",
    "The Euclidean distance tells about the length between the endpoints of the vectors, which give an indication of how long the distance between words in two documents is. It is important, to note if one term is represented many times in the document but the rest of words is similar to the searching document, the distance will go up, which could give a false indication of the similarity. Therefore when using the Euclidean measure it is important to look at the cosine similarity in order to assess if the abovementioned hypothesis is correct. \n",
    "\n",
    "$$ \\| q - p \\| = \\sqrt{(q - p)^2 * (q - p)^2}$$\n",
    " \n",
    "### Cosine similiarity\n",
    "This brings us to using Cosine similarity as a distance measure, as the cosine similarity actually tells us how great the angle between two vectors is. We can then say how similar or far away two documents is. With a cosine of theta = 1 indicating that there is a 100% similarity between two documents. This will happen only if the exact same words occur in the different documents.  \n",
    "\n",
    "$$ cos(\\theta) = \\frac{A \\cdot B} {\\| A \\| \\| B \\|} $$\n",
    " \n",
    "\n",
    "### Assessment\n",
    "On the basis of abovementioned, it is clear that various measures needs to be done in order to find an accurate similarity grade. Using Euclidean distance and cosine similarity individually, and a assessing the similarity on these measures, we find a proper indication of document similarities.  \n"
   ]
  },
  {
   "cell_type": "code",
   "execution_count": null,
   "metadata": {},
   "outputs": [],
   "source": []
  },
  {
   "cell_type": "code",
   "execution_count": null,
   "metadata": {},
   "outputs": [],
   "source": []
  }
 ],
 "metadata": {
  "kernelspec": {
   "display_name": "Python 3",
   "language": "python",
   "name": "python3"
  },
  "language_info": {
   "codemirror_mode": {
    "name": "ipython",
    "version": 3
   },
   "file_extension": ".py",
   "mimetype": "text/x-python",
   "name": "python",
   "nbconvert_exporter": "python",
   "pygments_lexer": "ipython3",
   "version": "3.7.0"
  }
 },
 "nbformat": 4,
 "nbformat_minor": 2
}
